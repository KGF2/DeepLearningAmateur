{
  "nbformat": 4,
  "nbformat_minor": 0,
  "metadata": {
    "colab": {
      "name": "PytorchLearn.ipynb",
      "provenance": [],
      "collapsed_sections": [],
      "authorship_tag": "ABX9TyPLn5b9C02gfsEQS7xuExxU",
      "include_colab_link": true
    },
    "kernelspec": {
      "name": "python3",
      "display_name": "Python 3"
    }
  },
  "cells": [
    {
      "cell_type": "markdown",
      "metadata": {
        "id": "view-in-github",
        "colab_type": "text"
      },
      "source": [
        "<a href=\"https://colab.research.google.com/github/KGF2/DeepLearningAmateur/blob/Test/PytorchLearn.ipynb\" target=\"_parent\"><img src=\"https://colab.research.google.com/assets/colab-badge.svg\" alt=\"Open In Colab\"/></a>"
      ]
    },
    {
      "cell_type": "code",
      "metadata": {
        "id": "md9G0_XtubQ0",
        "colab_type": "code",
        "colab": {}
      },
      "source": [
        "import torch\n",
        "import torchvision\n",
        "import torchvision.transforms as T\n"
      ],
      "execution_count": 0,
      "outputs": []
    },
    {
      "cell_type": "markdown",
      "metadata": {
        "id": "ttFmVbBIXAjN",
        "colab_type": "text"
      },
      "source": [
        "Bird's eye view of the project :\n",
        "\n",
        "  1) Prepare the data\n",
        "\n",
        "  2) Build the model\n",
        "\n",
        "  3) Train the model\n",
        "  \n",
        "  4) Analyze the model's result"
      ]
    },
    {
      "cell_type": "code",
      "metadata": {
        "id": "kFxNvFnqupFj",
        "colab_type": "code",
        "colab": {}
      },
      "source": [
        "# 1) Prepare the data\n",
        "\n",
        "# Data preprocessing\n",
        "# ETL task : Extract, Transform and Load the data\n",
        "\n",
        "train_set = torchvision.datasets.FashionMNIST( # train_set - dataset variable (it is an instance of FashionMNIST class that is inside torchvision package)\n",
        "    # raw data EXTRACT\n",
        "    root = './data:FashionMNIST',\n",
        "    train = True,\n",
        "    download = True,\n",
        "    # raw image data TRANSFORM to tensor\n",
        "    transform = T.Compose([T.ToTensor()])  \n",
        ")"
      ],
      "execution_count": 0,
      "outputs": []
    },
    {
      "cell_type": "code",
      "metadata": {
        "id": "z77Lx5_Gxxdk",
        "colab_type": "code",
        "colab": {}
      },
      "source": [
        "train_loader = torch.utils.data.DataLoader(train_set, batch_size=10) # training set was LOADED into dataloader, giving access to the data., # train_loader - data loader variable"
      ],
      "execution_count": 0,
      "outputs": []
    },
    {
      "cell_type": "code",
      "metadata": {
        "id": "ICBIrTAZ5N0B",
        "colab_type": "code",
        "colab": {}
      },
      "source": [
        "import numpy as np"
      ],
      "execution_count": 0,
      "outputs": []
    },
    {
      "cell_type": "code",
      "metadata": {
        "id": "hCSlOSF05ZTc",
        "colab_type": "code",
        "colab": {
          "base_uri": "https://localhost:8080/",
          "height": 35
        },
        "outputId": "c38bb8c9-e7e5-4667-e4e8-780339e3d1ad"
      },
      "source": [
        "len(train_set)\n",
        "torch.set_printoptions(linewidth=120)\n",
        "train_set.data.shape\n"
      ],
      "execution_count": 5,
      "outputs": [
        {
          "output_type": "execute_result",
          "data": {
            "text/plain": [
              "torch.Size([60000, 28, 28])"
            ]
          },
          "metadata": {
            "tags": []
          },
          "execution_count": 5
        }
      ]
    },
    {
      "cell_type": "code",
      "metadata": {
        "id": "rDpdFggb6H8G",
        "colab_type": "code",
        "colab": {
          "base_uri": "https://localhost:8080/",
          "height": 35
        },
        "outputId": "b88b67f0-081a-4f08-ca8b-f1a08652de07"
      },
      "source": [
        "train_loader.batch_size"
      ],
      "execution_count": 6,
      "outputs": [
        {
          "output_type": "execute_result",
          "data": {
            "text/plain": [
              "10"
            ]
          },
          "metadata": {
            "tags": []
          },
          "execution_count": 6
        }
      ]
    },
    {
      "cell_type": "code",
      "metadata": {
        "id": "ybuFZWuV6MNW",
        "colab_type": "code",
        "colab": {
          "base_uri": "https://localhost:8080/",
          "height": 35
        },
        "outputId": "62fd6f57-b1da-47f7-9b07-454ff6b76caf"
      },
      "source": [
        "train_set.targets.bincount() # since all are equal, this dataset is called balanced dataset (else it is called unbalanced dataset [class imbalance] - oversampling is the best method to increase the samples of the lesser set)\n",
        "# . since each lable/target has equal no of samples ie 60000 "
      ],
      "execution_count": 7,
      "outputs": [
        {
          "output_type": "execute_result",
          "data": {
            "text/plain": [
              "tensor([6000, 6000, 6000, 6000, 6000, 6000, 6000, 6000, 6000, 6000])"
            ]
          },
          "metadata": {
            "tags": []
          },
          "execution_count": 7
        }
      ]
    },
    {
      "cell_type": "code",
      "metadata": {
        "id": "JN8dIduH_Qn1",
        "colab_type": "code",
        "colab": {
          "base_uri": "https://localhost:8080/",
          "height": 35
        },
        "outputId": "5db0ef64-942f-4297-cf47-65ab98b8e90b"
      },
      "source": [
        "sample = next(iter(train_set)) # to access indiv elements from trainset object\n",
        "len(sample) # dataset contains image lable pairs. sample is a tuple.\n"
      ],
      "execution_count": 8,
      "outputs": [
        {
          "output_type": "execute_result",
          "data": {
            "text/plain": [
              "2"
            ]
          },
          "metadata": {
            "tags": []
          },
          "execution_count": 8
        }
      ]
    },
    {
      "cell_type": "code",
      "metadata": {
        "id": "GIBYoyWKA9tp",
        "colab_type": "code",
        "colab": {
          "base_uri": "https://localhost:8080/",
          "height": 52
        },
        "outputId": "c964d7ca-18bc-46d5-b43e-b57f50664f3a"
      },
      "source": [
        "image, label = sample # sequence unpacking/list unpacking.. replacement of {image = sample[0], label = sample[1]}\n",
        "print(image.shape)\n",
        "type(image)"
      ],
      "execution_count": 9,
      "outputs": [
        {
          "output_type": "stream",
          "text": [
            "torch.Size([1, 28, 28])\n"
          ],
          "name": "stdout"
        },
        {
          "output_type": "execute_result",
          "data": {
            "text/plain": [
              "torch.Tensor"
            ]
          },
          "metadata": {
            "tags": []
          },
          "execution_count": 9
        }
      ]
    },
    {
      "cell_type": "code",
      "metadata": {
        "id": "fZxrrXYRA_db",
        "colab_type": "code",
        "colab": {
          "base_uri": "https://localhost:8080/",
          "height": 52
        },
        "outputId": "db563e9a-e6bb-42e2-fc92-b341fef21824"
      },
      "source": [
        "print(label)\n",
        "type(label)"
      ],
      "execution_count": 10,
      "outputs": [
        {
          "output_type": "stream",
          "text": [
            "9\n"
          ],
          "name": "stdout"
        },
        {
          "output_type": "execute_result",
          "data": {
            "text/plain": [
              "int"
            ]
          },
          "metadata": {
            "tags": []
          },
          "execution_count": 10
        }
      ]
    },
    {
      "cell_type": "code",
      "metadata": {
        "id": "-P8hpBNlCn_7",
        "colab_type": "code",
        "colab": {
          "base_uri": "https://localhost:8080/",
          "height": 300
        },
        "outputId": "72113062-1a8a-467b-a798-e6b176036598"
      },
      "source": [
        "import matplotlib.pyplot as plt\n",
        "print(image.squeeze().size())\n",
        "plt.imshow(image.squeeze(), cmap='gray') # squeeze is used to remove 1D enteries from the shape of an array\n",
        "print(\"label\",label)"
      ],
      "execution_count": 11,
      "outputs": [
        {
          "output_type": "stream",
          "text": [
            "torch.Size([28, 28])\n",
            "label 9\n"
          ],
          "name": "stdout"
        },
        {
          "output_type": "display_data",
          "data": {
            "image/png": "[encoded data removed]",
            "text/plain": [
              "<Figure size 432x288 with 1 Axes>"
            ]
          },
          "metadata": {
            "tags": []
          }
        }
      ]
    },
    {
      "cell_type": "code",
      "metadata": {
        "id": "PTqWQmAoJboo",
        "colab_type": "code",
        "colab": {
          "base_uri": "https://localhost:8080/",
          "height": 35
        },
        "outputId": "e1f2dbd1-2ac5-4c99-e6ae-92ae8723a414"
      },
      "source": [
        "batch = next(iter(train_loader)) # similar to sample above\n",
        "images, labels = batch\n",
        "images.shape # dimention (B X C X H X W)"
      ],
      "execution_count": 12,
      "outputs": [
        {
          "output_type": "execute_result",
          "data": {
            "text/plain": [
              "torch.Size([10, 1, 28, 28])"
            ]
          },
          "metadata": {
            "tags": []
          },
          "execution_count": 12
        }
      ]
    },
    {
      "cell_type": "code",
      "metadata": {
        "id": "cxyqxcQlL5aC",
        "colab_type": "code",
        "colab": {
          "base_uri": "https://localhost:8080/",
          "height": 145
        },
        "outputId": "c401e588-a33f-430d-8f79-1682ef3be86a"
      },
      "source": [
        "# print images in a batch\n",
        "\n",
        "grid = torchvision.utils.make_grid(images, nrow=10) # creating a grid\n",
        "plt.figure(figsize=(10,10))\n",
        "print(grid.shape)\n",
        "plt.imshow(np.transpose(grid, (1,2,0)))\n",
        "print(\"labels\", labels)"
      ],
      "execution_count": 13,
      "outputs": [
        {
          "output_type": "stream",
          "text": [
            "torch.Size([3, 32, 302])\n",
            "labels tensor([9, 0, 0, 3, 0, 2, 7, 2, 5, 5])\n"
          ],
          "name": "stdout"
        },
        {
          "output_type": "display_data",
          "data": {
            "image/png": "[encoded data removed]",
            "text/plain": [
              "<Figure size 720x720 with 1 Axes>"
            ]
          },
          "metadata": {
            "tags": []
          }
        }
      ]
    },
    {
      "cell_type": "code",
      "metadata": {
        "id": "mmfb_02qWrX2",
        "colab_type": "code",
        "colab": {}
      },
      "source": [
        "# 2) Build the model\n",
        "\n",
        "import torch.nn as nn"
      ],
      "execution_count": 0,
      "outputs": []
    },
    {
      "cell_type": "code",
      "metadata": {
        "id": "3yu-sEWIfwxz",
        "colab_type": "code",
        "colab": {}
      },
      "source": [
        "class Network(nn.Module):\n",
        "  def __init__(self):\n",
        "    super(Network, self).__init__()\n",
        "    # 1 ip channel will be convolved by 6 diff filters which will create 6 output channels\n",
        "    # in_channel is dependent on no. of color channels present inside the images. here, gray scale. hence 1\n",
        "    self.conv1 = nn.Conv2d(in_channels=1, out_channels=6, kernel_size=5) # in_channel, out_channel etc -> parameters (place holder); 1,6 etc -> arguments (values)\n",
        "    self.conv2 = nn.Conv2d(in_channels=6, out_channels=12, kernel_size=5) # kernel --> filter\n",
        "    # out_channels, kernel_size, out_features are hyperparemeters - whose values are chosen manually and arbitrarily.. the rest are data-dependent hyperparameters.\n",
        "    # weights present inside each conv layer (network.conv1.weight) of the network also the bias are learnable parameters - values which gets updated as the nw learns when loss functions are minimized.\n",
        "    # out_channels -> feature maps\n",
        "    self.fc1 = nn.Linear(in_features=12*4*4, out_features=120)\n",
        "    self.fc2 = nn.Linear(in_features=120, out_features=60)\n",
        "    self.out = nn.Linear(in_features=60, out_features=10) # out_features depend on the no.of classes/classification present in the training set ie 10 (trouser, pullover etc)\n",
        "  \n",
        "  def forward(self, t):\n",
        "    return t"
      ],
      "execution_count": 0,
      "outputs": []
    },
    {
      "cell_type": "code",
      "metadata": {
        "id": "U0xu0lcFhun1",
        "colab_type": "code",
        "colab": {
          "base_uri": "https://localhost:8080/",
          "height": 1000
        },
        "outputId": "3ff8ce51-205e-45c4-fef4-5f89ed14d885"
      },
      "source": [
        "network = Network() # instance of our network\n",
        "print(network.conv1.weight.shape) # prints the rank 4 tensor with [out_channel, input_channel, kernel_height, kernel_width]\n",
        "# means one color channel(input channel/depth of the filter) is convolved by 6 filters of 5x5 size. \n",
        "print(network.conv2.weight.shape)\n",
        "print(network.conv2.weight[0].shape) # gives tensor for a single filter.\n",
        "print(network.conv1.weight) # learnable parameters\n",
        "# in conv layers, weight values live inside the kernels/filters. the conv opern is an opern between input channel to the layer and the filter inside the layer. \n",
        "print(\"fc1\", network.fc1.weight)\n",
        "network"
      ],
      "execution_count": 23,
      "outputs": [
        {
          "output_type": "stream",
          "text": [
            "torch.Size([6, 1, 5, 5])\n",
            "torch.Size([12, 6, 5, 5])\n",
            "torch.Size([6, 5, 5])\n",
            "Parameter containing:\n",
            "tensor([[[[ 3.5874e-02, -1.7886e-01,  1.3647e-01, -4.7386e-02,  3.7154e-02],\n",
            "          [ 9.6245e-02, -1.3246e-01,  1.9012e-02, -1.0927e-01,  9.5293e-02],\n",
            "          [ 1.9283e-02,  1.7757e-01,  4.4405e-02, -6.4676e-02,  8.8700e-02],\n",
            "          [ 1.8149e-01, -9.4846e-05,  6.5003e-02, -1.8154e-01, -8.2140e-02],\n",
            "          [-1.6490e-01, -2.1026e-02, -1.5915e-01, -3.7580e-02,  1.3642e-01]]],\n",
            "\n",
            "\n",
            "        [[[ 8.6554e-02,  1.3255e-01,  1.5620e-01, -8.6839e-02, -1.9644e-02],\n",
            "          [-1.2831e-01, -1.3297e-01,  2.8399e-02, -1.1215e-01,  1.7282e-01],\n",
            "          [ 1.7968e-01,  1.6462e-01,  9.8743e-02, -4.1207e-02,  1.1771e-01],\n",
            "          [ 1.4951e-01, -2.4231e-02, -1.3767e-01, -1.9581e-01, -1.5698e-01],\n",
            "          [-1.3460e-01,  4.0635e-02, -1.9894e-01,  1.1145e-01, -1.4415e-01]]],\n",
            "\n",
            "\n",
            "        [[[ 1.5884e-01, -7.2052e-02,  1.5966e-01, -1.1768e-01, -1.4877e-01],\n",
            "          [ 2.6933e-02, -1.2610e-01, -3.7981e-02, -4.8100e-02,  6.1284e-02],\n",
            "          [ 1.0020e-01,  9.1965e-02, -1.5323e-01, -8.0541e-02, -3.1816e-02],\n",
            "          [ 2.8891e-02, -7.6208e-03, -1.9981e-01,  1.8383e-03, -4.5878e-02],\n",
            "          [ 1.5949e-01,  1.2003e-01, -1.1920e-01,  2.9576e-02, -1.5449e-01]]],\n",
            "\n",
            "\n",
            "        [[[ 1.1639e-02, -4.8085e-02,  1.5003e-01,  9.0124e-02, -1.4524e-01],\n",
            "          [ 1.3026e-01,  8.3760e-02, -1.1318e-01,  1.9178e-01, -1.3821e-02],\n",
            "          [ 1.1270e-01,  1.5924e-02,  2.3399e-02,  3.4249e-02, -1.1191e-01],\n",
            "          [-1.8031e-01, -1.2329e-01, -2.9773e-02,  5.9212e-02, -7.6669e-02],\n",
            "          [ 3.3014e-03,  1.4428e-01, -1.1439e-01,  1.2146e-02,  1.6302e-01]]],\n",
            "\n",
            "\n",
            "        [[[-6.7236e-02,  1.6152e-01,  1.2618e-02, -1.9268e-01, -5.8856e-02],\n",
            "          [ 2.6025e-02, -3.3719e-02, -1.6094e-01,  1.2166e-01,  1.4949e-01],\n",
            "          [ 1.5423e-01, -1.7300e-01,  1.3964e-01,  5.5142e-02,  9.6514e-03],\n",
            "          [ 1.5603e-01, -1.4465e-01, -4.4653e-02, -1.2717e-01, -3.4587e-02],\n",
            "          [ 4.0205e-02, -1.3829e-01,  1.4974e-01, -1.5095e-01, -1.0885e-01]]],\n",
            "\n",
            "\n",
            "        [[[-2.0140e-02, -5.9141e-02, -1.3657e-01, -1.3805e-01,  1.7704e-01],\n",
            "          [-1.8895e-01,  1.6744e-01,  1.7117e-01,  1.8544e-01,  4.1890e-02],\n",
            "          [ 1.9496e-01, -1.6414e-01, -2.9293e-02,  5.1097e-02, -8.4143e-03],\n",
            "          [-1.9740e-01, -2.7554e-02,  1.8951e-01, -7.4999e-02, -1.0106e-01],\n",
            "          [ 1.4548e-01, -3.8787e-02,  1.8898e-01,  1.2549e-01,  1.0845e-01]]]], requires_grad=True)\n",
            "fc1 Parameter containing:\n",
            "tensor([[ 0.0013,  0.0589,  0.0621,  ...,  0.0290, -0.0437,  0.0449],\n",
            "        [-0.0405,  0.0614,  0.0594,  ..., -0.0031, -0.0532, -0.0129],\n",
            "        [-0.0162, -0.0615, -0.0082,  ...,  0.0095,  0.0623,  0.0687],\n",
            "        ...,\n",
            "        [-0.0535,  0.0373,  0.0315,  ...,  0.0125,  0.0438,  0.0659],\n",
            "        [ 0.0509,  0.0215,  0.0624,  ...,  0.0484, -0.0257,  0.0313],\n",
            "        [-0.0073, -0.0670, -0.0102,  ..., -0.0516, -0.0252,  0.0266]], requires_grad=True)\n"
          ],
          "name": "stdout"
        },
        {
          "output_type": "execute_result",
          "data": {
            "text/plain": [
              "Network(\n",
              "  (conv1): Conv2d(1, 6, kernel_size=(5, 5), stride=(1, 1))\n",
              "  (conv2): Conv2d(6, 12, kernel_size=(5, 5), stride=(1, 1))\n",
              "  (fc1): Linear(in_features=192, out_features=120, bias=True)\n",
              "  (fc2): Linear(in_features=120, out_features=60, bias=True)\n",
              "  (out): Linear(in_features=60, out_features=10, bias=True)\n",
              ")"
            ]
          },
          "metadata": {
            "tags": []
          },
          "execution_count": 23
        }
      ]
    },
    {
      "cell_type": "code",
      "metadata": {
        "id": "GOF5ZRi0LfwR",
        "colab_type": "code",
        "colab": {}
      },
      "source": [
        ""
      ],
      "execution_count": 0,
      "outputs": []
    }
  ]
}