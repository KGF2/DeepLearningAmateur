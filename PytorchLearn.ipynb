{
  "nbformat": 4,
  "nbformat_minor": 0,
  "metadata": {
    "colab": {
      "name": "PytorchLearn.ipynb",
      "provenance": [],
      "collapsed_sections": [],
      "authorship_tag": "ABX9TyPoEp25H2JfhkF/HUulEK4U",
      "include_colab_link": true
    },
    "kernelspec": {
      "name": "python3",
      "display_name": "Python 3"
    }
  },
  "cells": [
    {
      "cell_type": "markdown",
      "metadata": {
        "id": "view-in-github",
        "colab_type": "text"
      },
      "source": [
        "<a href=\"https://colab.research.google.com/github/KGF2/DeepLearningAmateur/blob/Test/PytorchLearn.ipynb\" target=\"_parent\"><img src=\"https://colab.research.google.com/assets/colab-badge.svg\" alt=\"Open In Colab\"/></a>"
      ]
    },
    {
      "cell_type": "code",
      "metadata": {
        "id": "jH7IfK3I9CWd",
        "colab_type": "code",
        "colab": {}
      },
      "source": [
        "import torch"
      ],
      "execution_count": 0,
      "outputs": []
    },
    {
      "cell_type": "code",
      "metadata": {
        "id": "orszYzgu9Fro",
        "colab_type": "code",
        "colab": {
          "base_uri": "https://localhost:8080/",
          "height": 364
        },
        "outputId": "ce66f744-b9c0-4e10-c7b4-baa423240c3d"
      },
      "source": [
        "a = torch.tensor([\n",
        "    [1,1,1,1,1],\n",
        "    [1,1,1,1,1],\n",
        "    [1,1,1,1,1],\n",
        "    [1,1,1,1,1]\n",
        "])\n",
        "\n",
        "b = torch.tensor([\n",
        "    [2,2,2,2,2],\n",
        "    [2,2,2,2,2],\n",
        "    [2,2,2,2,2],\n",
        "    [2,2,2,2,2]\n",
        "])\n",
        "\n",
        "c = torch.tensor([\n",
        "    [1,2,3,4,5],\n",
        "    [5,6,7,8,8],\n",
        "    [9,10,11,12,12],\n",
        "    [13,14,15,16,16]\n",
        "])\n",
        "\n",
        "t = torch.stack((a,b,c))\n",
        "print (t.shape)\n",
        "x = torch.argmax(t)\n",
        "y=torch.max(t)\n",
        "print(x, y)\n",
        "x1=x.item()\n",
        "y1=y.item()\n",
        "print(x1,y1)\n",
        "print(t)\n",
        "z = torch.argmax(t, dim=2)\n",
        "print(\"z is\",z)\n",
        "\n"
      ],
      "execution_count": 2,
      "outputs": [
        {
          "output_type": "stream",
          "text": [
            "torch.Size([3, 4, 5])\n",
            "tensor(59) tensor(16)\n",
            "59 16\n",
            "tensor([[[ 1,  1,  1,  1,  1],\n",
            "         [ 1,  1,  1,  1,  1],\n",
            "         [ 1,  1,  1,  1,  1],\n",
            "         [ 1,  1,  1,  1,  1]],\n",
            "\n",
            "        [[ 2,  2,  2,  2,  2],\n",
            "         [ 2,  2,  2,  2,  2],\n",
            "         [ 2,  2,  2,  2,  2],\n",
            "         [ 2,  2,  2,  2,  2]],\n",
            "\n",
            "        [[ 1,  2,  3,  4,  5],\n",
            "         [ 5,  6,  7,  8,  8],\n",
            "         [ 9, 10, 11, 12, 12],\n",
            "         [13, 14, 15, 16, 16]]])\n",
            "z is tensor([[4, 4, 4, 4],\n",
            "        [4, 4, 4, 4],\n",
            "        [4, 4, 4, 4]])\n"
          ],
          "name": "stdout"
        }
      ]
    },
    {
      "cell_type": "code",
      "metadata": {
        "id": "md9G0_XtubQ0",
        "colab_type": "code",
        "colab": {}
      },
      "source": [
        "import torch\n",
        "import torchvision\n",
        "import torchvision.transforms as T\n"
      ],
      "execution_count": 0,
      "outputs": []
    },
    {
      "cell_type": "code",
      "metadata": {
        "id": "kFxNvFnqupFj",
        "colab_type": "code",
        "colab": {}
      },
      "source": [
        "# Data preprocessing\n",
        "# ETL task : Extract, Transform and Load the data\n",
        "\n",
        "train_set = torchvision.datasets.FashionMNIST( # train_set - dataset variable (it is an instance of FashionMNIST class that is inside torchvision package)\n",
        "    # raw data EXTRACT\n",
        "    root = './data:FashionMNIST',\n",
        "    train = True,\n",
        "    download = True,\n",
        "    # raw image data TRANSFORM to tensor\n",
        "    transform = T.Compose([T.ToTensor()])  \n",
        ")"
      ],
      "execution_count": 0,
      "outputs": []
    },
    {
      "cell_type": "code",
      "metadata": {
        "id": "z77Lx5_Gxxdk",
        "colab_type": "code",
        "colab": {}
      },
      "source": [
        "train_loader = torch.utils.data.DataLoader(train_set, batch_size=10) # training set was LOADED into dataloader, giving access to the data., # train_loader - data loader variable"
      ],
      "execution_count": 0,
      "outputs": []
    },
    {
      "cell_type": "code",
      "metadata": {
        "id": "ICBIrTAZ5N0B",
        "colab_type": "code",
        "colab": {}
      },
      "source": [
        "import numpy"
      ],
      "execution_count": 0,
      "outputs": []
    },
    {
      "cell_type": "code",
      "metadata": {
        "id": "hCSlOSF05ZTc",
        "colab_type": "code",
        "colab": {
          "base_uri": "https://localhost:8080/",
          "height": 35
        },
        "outputId": "a2f13aea-693e-445c-bc9b-22bd13cdbd03"
      },
      "source": [
        "len(train_set)\n",
        "torch.set_printoptions(linewidth=120)\n",
        "train_set.data.shape\n"
      ],
      "execution_count": 7,
      "outputs": [
        {
          "output_type": "execute_result",
          "data": {
            "text/plain": [
              "torch.Size([60000, 28, 28])"
            ]
          },
          "metadata": {
            "tags": []
          },
          "execution_count": 7
        }
      ]
    },
    {
      "cell_type": "code",
      "metadata": {
        "id": "rDpdFggb6H8G",
        "colab_type": "code",
        "colab": {
          "base_uri": "https://localhost:8080/",
          "height": 35
        },
        "outputId": "1a2f1d4b-8218-49ca-87b8-3163f409a802"
      },
      "source": [
        "train_loader.batch_size"
      ],
      "execution_count": 8,
      "outputs": [
        {
          "output_type": "execute_result",
          "data": {
            "text/plain": [
              "10"
            ]
          },
          "metadata": {
            "tags": []
          },
          "execution_count": 8
        }
      ]
    },
    {
      "cell_type": "code",
      "metadata": {
        "id": "ybuFZWuV6MNW",
        "colab_type": "code",
        "colab": {
          "base_uri": "https://localhost:8080/",
          "height": 35
        },
        "outputId": "840ae99b-33c9-4f2c-c5d2-d266131c35fd"
      },
      "source": [
        "train_set.targets.bincount() # since all are equal, this dataset is called balanced dataset (else it is called unbalanced dataset [class imbalance] - oversampling is the best method to increase the samples of the lesser set)\n",
        "# . since each lable/target has equal no of samples ie 60000 "
      ],
      "execution_count": 9,
      "outputs": [
        {
          "output_type": "execute_result",
          "data": {
            "text/plain": [
              "tensor([6000, 6000, 6000, 6000, 6000, 6000, 6000, 6000, 6000, 6000])"
            ]
          },
          "metadata": {
            "tags": []
          },
          "execution_count": 9
        }
      ]
    },
    {
      "cell_type": "code",
      "metadata": {
        "id": "JN8dIduH_Qn1",
        "colab_type": "code",
        "colab": {
          "base_uri": "https://localhost:8080/",
          "height": 35
        },
        "outputId": "78884e16-a1c9-4555-97b6-21f210d3e6a1"
      },
      "source": [
        "sample = next(iter(train_set)) # to access indiv elements from trainset object\n",
        "len(sample) # dataset contains image lable pairs. sample is a tuple.\n"
      ],
      "execution_count": 30,
      "outputs": [
        {
          "output_type": "execute_result",
          "data": {
            "text/plain": [
              "2"
            ]
          },
          "metadata": {
            "tags": []
          },
          "execution_count": 30
        }
      ]
    },
    {
      "cell_type": "code",
      "metadata": {
        "id": "GIBYoyWKA9tp",
        "colab_type": "code",
        "colab": {
          "base_uri": "https://localhost:8080/",
          "height": 52
        },
        "outputId": "7b394b9f-9f51-49ff-c65f-8168fe512191"
      },
      "source": [
        "image, label = sample # sequence unpacking/list unpacking.. replacement of {image = sample[0], label = sample[1]}\n",
        "print(image.shape)\n",
        "type(image)"
      ],
      "execution_count": 39,
      "outputs": [
        {
          "output_type": "stream",
          "text": [
            "torch.Size([1, 28, 28])\n"
          ],
          "name": "stdout"
        },
        {
          "output_type": "execute_result",
          "data": {
            "text/plain": [
              "torch.Tensor"
            ]
          },
          "metadata": {
            "tags": []
          },
          "execution_count": 39
        }
      ]
    },
    {
      "cell_type": "code",
      "metadata": {
        "id": "fZxrrXYRA_db",
        "colab_type": "code",
        "colab": {
          "base_uri": "https://localhost:8080/",
          "height": 52
        },
        "outputId": "9a8107aa-e17f-485f-b6fa-88d85f7f3654"
      },
      "source": [
        "print(label)\n",
        "type(label)"
      ],
      "execution_count": 40,
      "outputs": [
        {
          "output_type": "stream",
          "text": [
            "9\n"
          ],
          "name": "stdout"
        },
        {
          "output_type": "execute_result",
          "data": {
            "text/plain": [
              "int"
            ]
          },
          "metadata": {
            "tags": []
          },
          "execution_count": 40
        }
      ]
    },
    {
      "cell_type": "code",
      "metadata": {
        "id": "-P8hpBNlCn_7",
        "colab_type": "code",
        "colab": {
          "base_uri": "https://localhost:8080/",
          "height": 300
        },
        "outputId": "56786b23-8dc8-44e7-dd07-53d3f82b72ff"
      },
      "source": [
        "import matplotlib.pyplot as plt\n",
        "print(image.squeeze().size())\n",
        "plt.imshow(image.squeeze(), cmap='gray') # squeeze is used to remove 1D enteries from the shape of an array\n",
        "print(\"label\",label)"
      ],
      "execution_count": 47,
      "outputs": [
        {
          "output_type": "stream",
          "text": [
            "torch.Size([28, 28])\n",
            "label 9\n"
          ],
          "name": "stdout"
        },
        {
          "output_type": "display_data",
          "data": {
            "image/png": "[encoded data removed]",
            "text/plain": [
              "<Figure size 432x288 with 1 Axes>"
            ]
          },
          "metadata": {
            "tags": []
          }
        }
      ]
    },
    {
      "cell_type": "code",
      "metadata": {
        "id": "PTqWQmAoJboo",
        "colab_type": "code",
        "colab": {
          "base_uri": "https://localhost:8080/",
          "height": 35
        },
        "outputId": "e9c5a7dd-9aef-4245-a97b-b1833f386a4e"
      },
      "source": [
        "batch = next(iter(train_loader))\n",
        "image, label = batch\n",
        "label"
      ],
      "execution_count": 68,
      "outputs": [
        {
          "output_type": "execute_result",
          "data": {
            "text/plain": [
              "tensor([9, 0, 0, 3, 0, 2, 7, 2, 5, 5])"
            ]
          },
          "metadata": {
            "tags": []
          },
          "execution_count": 68
        }
      ]
    }
  ]
}