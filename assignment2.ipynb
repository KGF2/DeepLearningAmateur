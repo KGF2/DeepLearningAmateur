{
  "nbformat": 4,
  "nbformat_minor": 0,
  "metadata": {
    "colab": {
      "name": "assignment2.ipynb",
      "provenance": [],
      "authorship_tag": "ABX9TyMwQPKNZdBL5V8275KAf6gW",
      "include_colab_link": true
    },
    "kernelspec": {
      "name": "python3",
      "display_name": "Python 3"
    }
  },
  "cells": [
    {
      "cell_type": "markdown",
      "metadata": {
        "id": "view-in-github",
        "colab_type": "text"
      },
      "source": [
        "<a href=\"https://colab.research.google.com/github/KGF2/DeepLearningAmateur/blob/ineuron/assignment2.ipynb\" target=\"_parent\"><img src=\"https://colab.research.google.com/assets/colab-badge.svg\" alt=\"Open In Colab\"/></a>"
      ]
    },
    {
      "cell_type": "code",
      "metadata": {
        "id": "zPvNdk0-oe3j",
        "colab_type": "code",
        "colab": {}
      },
      "source": [
        "'''\n",
        "1.  Create the below pattern using nested for loop in Python.\n",
        "\n",
        "*\n",
        "* *\n",
        "* * *\n",
        "* * * *\n",
        "* * * * *\n",
        "* * * *\n",
        "* * *\n",
        "* *\n",
        "*\n",
        "'''\n",
        "\n",
        "#Code:\n",
        "for i in range(6):\n",
        "  print(i*\"* \")\n",
        "  if i == 5:\n",
        "    for j in reversed(range(0,i)):\n",
        "      print(j*\"* \")"
      ],
      "execution_count": 0,
      "outputs": []
    },
    {
      "cell_type": "code",
      "metadata": {
        "id": "S9qURn0QorB3",
        "colab_type": "code",
        "colab": {}
      },
      "source": [
        "'''\n",
        "2.  Write a Python program to reverse a word after accepting the input from the user.\n",
        "    Sample Output:\n",
        "\n",
        "    Input word: Ineuron\n",
        "    Output: noruenI\n",
        "'''\n",
        "\n",
        "inp = input(\"Enter the word: \")\n",
        "print(inp[::-1])"
      ],
      "execution_count": 0,
      "outputs": []
    }
  ]
}