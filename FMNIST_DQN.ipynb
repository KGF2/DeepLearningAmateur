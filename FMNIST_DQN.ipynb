{
  "nbformat": 4,
  "nbformat_minor": 0,
  "metadata": {
    "colab": {
      "name": "FMNIST_DQN.ipynb",
      "provenance": [],
      "collapsed_sections": [],
      "authorship_tag": "ABX9TyON2Cvr9vU2ZOV8mDDGEF3Z",
      "include_colab_link": true
    },
    "kernelspec": {
      "name": "python3",
      "display_name": "Python 3"
    },
    "accelerator": "TPU"
  },
  "cells": [
    {
      "cell_type": "markdown",
      "metadata": {
        "id": "view-in-github",
        "colab_type": "text"
      },
      "source": [
        "<a href=\"https://colab.research.google.com/github/KGF2/DeepLearningAmateur/blob/master/FMNIST_DQN.ipynb\" target=\"_parent\"><img src=\"https://colab.research.google.com/assets/colab-badge.svg\" alt=\"Open In Colab\"/></a>"
      ]
    },
    {
      "cell_type": "code",
      "metadata": {
        "id": "ntJFqzU1_I-U",
        "colab_type": "code",
        "colab": {}
      },
      "source": [
        "# 1) preprocess the data\n",
        "# 2) build the nw\n",
        "# 3) train the nw\n",
        "# 4) analyse the results\n"
      ],
      "execution_count": 0,
      "outputs": []
    },
    {
      "cell_type": "code",
      "metadata": {
        "id": "F3Ex2aw_FxCj",
        "colab_type": "code",
        "colab": {}
      },
      "source": [
        "import torch\n"
      ],
      "execution_count": 0,
      "outputs": []
    },
    {
      "cell_type": "code",
      "metadata": {
        "id": "26vvKluIGKRZ",
        "colab_type": "code",
        "colab": {}
      },
      "source": [
        "import torchvision \n",
        "import torchvision.transforms as transforms\n",
        "\n",
        "# extract raw data and convert to tensor\n",
        "train_set = torchvision.datasets.FashionMNIST(\n",
        "    root = './data'\n",
        "    ,train = True\n",
        "    ,download = True\n",
        "    ,transform = transforms.Compose([transforms.ToTensor()])\n",
        ")\n"
      ],
      "execution_count": 0,
      "outputs": []
    },
    {
      "cell_type": "code",
      "metadata": {
        "id": "miXgybGSGPIS",
        "colab_type": "code",
        "colab": {}
      },
      "source": [
        "import torch.nn as nn\n",
        "import torch.nn.functional as F\n",
        "\n",
        "# DQN\n",
        "\n",
        "class DQNetwork (nn.Module):\n",
        "  def __init__(self):\n",
        "    super().__init__()\n",
        "    self.conv1 = nn.Conv2d(in_channels=1, out_channels=6, kernel_size=5)\n",
        "    self.conv2 = nn.Conv2d(in_channels=6, out_channels=12, kernel_size=5)\n",
        "    self.fc1 = nn.Linear(in_features=12*4*4, out_features=120)\n",
        "    self.fc2 = nn.Linear(in_features=120, out_features=60)\n",
        "    self.out = nn.Linear(in_features=60, out_features=10)\n",
        "  def forward(self, tnsr):\n",
        "    tnsr = F.relu(self.conv1(tnsr))\n",
        "    tnsr = F.max_pool2d(tnsr, kernel_size=2, stride=2)\n",
        "    tnsr = F.relu(self.conv2(tnsr))\n",
        "    tnsr = F.max_pool2d(tnsr, kernel_size=2, stride=2)\n",
        "    tnsr = tnsr.reshape([-1, 12*4*4])\n",
        "    tnsr = F.relu(self.fc1(tnsr))\n",
        "    tnsr = F.relu(self.fc2(tnsr))\n",
        "    tnsr = self.out(tnsr)\n",
        "    return tnsr"
      ],
      "execution_count": 0,
      "outputs": []
    },
    {
      "cell_type": "code",
      "metadata": {
        "id": "r_PcaJ4AexZt",
        "colab_type": "code",
        "colab": {
          "base_uri": "https://localhost:8080/",
          "height": 69
        },
        "outputId": "637fb02e-9b8b-4f0a-e706-97bcd6536922"
      },
      "source": [
        "import torch.optim as optim\n",
        "\n",
        "# Batch Training\n",
        "\n",
        "DQN = DQNetwork()\n",
        "\n",
        "train_loader = torch.utils.data.DataLoader(dataset=train_set, batch_size=100, shuffle=False)\n",
        "optimiser = optim.Adagrad(DQN.parameters(), lr=0.01)\n",
        "\n",
        "def get_num_correct(pred, labels):\n",
        "  return pred.argmax(dim=1).eq(labels).sum().item()\n",
        "\n",
        "for epoch in range(3):\n",
        "  total_loss = 0\n",
        "  total_correct = 0\n",
        "  for batch in train_loader:\n",
        "    images, labels = batch\n",
        "    pred = DQN(images)\n",
        "    loss = F.cross_entropy(pred, labels)\n",
        "    optimiser.zero_grad()\n",
        "    loss.backward()\n",
        "    optimiser.step()\n",
        "    total_loss += loss.item()\n",
        "    total_correct += get_num_correct(pred, labels)\n",
        "  print (\"epoch : \" + str(epoch+1) +\"\\t\"+ \"total_entropy_loss : \" + str(total_loss) +\"\\t\\t\"+ \"total_correct_predictions : \" + str(total_correct))"
      ],
      "execution_count": 4,
      "outputs": [
        {
          "output_type": "stream",
          "text": [
            "epoch : 1\ttotal_entropy_loss : 404.69355511665344\t\ttotal_correct_predictions : 44411\n",
            "epoch : 2\ttotal_entropy_loss : 297.15817818045616\t\ttotal_correct_predictions : 48864\n",
            "epoch : 3\ttotal_entropy_loss : 268.4797993302345\t\ttotal_correct_predictions : 50231\n"
          ],
          "name": "stdout"
        }
      ]
    },
    {
      "cell_type": "code",
      "metadata": {
        "id": "T3RfdMq9aito",
        "colab_type": "code",
        "colab": {
          "base_uri": "https://localhost:8080/",
          "height": 55
        },
        "outputId": "53305399-1946-4eda-db53-3892dd90bd19"
      },
      "source": [
        "# 4) Analyse the result\n",
        "\n",
        "\"\"\"import matplotlib.pyplot as plt\n",
        "\n",
        "from sklearn.metrics import confusion_matrix\n",
        "from sklearn.metrics import plot_confusion_matrix\n",
        "\n",
        "cm = confusion_matrix(train_set.targets, train_)\"\"\""
      ],
      "execution_count": 5,
      "outputs": [
        {
          "output_type": "execute_result",
          "data": {
            "text/plain": [
              "'import matplotlib.pyplot as plt\\n\\nfrom sklearn.metrics import confusion_matrix\\nfrom sklearn.metrics import plot_confusion_matrix\\n\\ncm = confusion_matrix(train_set.targets, train_)'"
            ]
          },
          "metadata": {
            "tags": []
          },
          "execution_count": 5
        }
      ]
    },
    {
      "cell_type": "code",
      "metadata": {
        "id": "RDPH7qnU8oZp",
        "colab_type": "code",
        "colab": {
          "base_uri": "https://localhost:8080/",
          "height": 55
        },
        "outputId": "972dda6c-bcf2-4911-e70a-e6e8e2aa6d7d"
      },
      "source": [
        "# MNIST dataset\n",
        "\n",
        "\"\"\"\n",
        "import torchvision \n",
        "import torchvision.transforms as transforms\n",
        "\n",
        "train_set_mnist = torchvision.datasets.MNIST(\n",
        "    root = './data'\n",
        "    ,train = True\n",
        "    ,download = True\n",
        "    ,transform = transforms.Compose([transforms.ToTensor()])\n",
        ")\n",
        "\n",
        "train_loader_mnist = torchvision.utils.datasets \n",
        "\"\"\""
      ],
      "execution_count": 6,
      "outputs": [
        {
          "output_type": "execute_result",
          "data": {
            "text/plain": [
              "\"\\nimport torchvision \\nimport torchvision.transforms as transforms\\n\\ntrain_set_mnist = torchvision.datasets.MNIST(\\n    root = './data'\\n    ,train = True\\n    ,download = True\\n    ,transform = transforms.Compose([transforms.ToTensor()])\\n)\\n\\ntrain_loader_mnist = torchvision.utils.datasets \\n\""
            ]
          },
          "metadata": {
            "tags": []
          },
          "execution_count": 6
        }
      ]
    },
    {
      "cell_type": "code",
      "metadata": {
        "id": "cihr0eupWW5z",
        "colab_type": "code",
        "colab": {
          "base_uri": "https://localhost:8080/",
          "height": 52
        },
        "outputId": "dcef5e54-f878-4e9f-a667-ef1a3c3f3826"
      },
      "source": [
        "# 4) Prediction result analysis\n",
        "\n",
        "# confusion matrix -- 1st type\n",
        "\n",
        "@torch.no_grad()\n",
        "def get_all_preds(model, data_loader):\n",
        "    all_preds = torch.tensor([])\n",
        "    for batch in data_loader:\n",
        "        images, labels = batch\n",
        "\n",
        "        preds = model(images)\n",
        "        all_preds = torch.cat(\n",
        "            (all_preds, preds)\n",
        "            ,dim=0\n",
        "        )\n",
        "    return all_preds\n",
        "\n",
        "with torch.no_grad():\n",
        "    prediction_loader = torch.utils.data.DataLoader(train_set, batch_size=10000)\n",
        "    train_preds = get_all_preds(DQN, prediction_loader)\n",
        "\n",
        "preds_correct = get_num_correct(train_preds, train_set.targets)\n",
        "\n",
        "print('total correct:', preds_correct)\n",
        "print('accuracy:', preds_correct / len(train_set))\n"
      ],
      "execution_count": 7,
      "outputs": [
        {
          "output_type": "stream",
          "text": [
            "total correct: 50694\n",
            "accuracy: 0.8449\n"
          ],
          "name": "stdout"
        }
      ]
    },
    {
      "cell_type": "code",
      "metadata": {
        "id": "lz1S8q7tbR0b",
        "colab_type": "code",
        "colab": {
          "base_uri": "https://localhost:8080/",
          "height": 329
        },
        "outputId": "3cce03ac-cece-4417-ceb7-4e34e267923a"
      },
      "source": [
        "stacked = torch.stack(\n",
        "    (\n",
        "        train_set.targets\n",
        "        ,train_preds.argmax(dim=1)\n",
        "    )\n",
        "    ,dim=1\n",
        ")\n",
        "print(stacked.shape)\n",
        "print(stacked)\n",
        "stacked[0].tolist()\n",
        "\n",
        "cmt = torch.zeros(10,10, dtype=torch.int64)\n",
        "cmt"
      ],
      "execution_count": 8,
      "outputs": [
        {
          "output_type": "stream",
          "text": [
            "torch.Size([60000, 2])\n",
            "tensor([[9, 9],\n",
            "        [0, 0],\n",
            "        [0, 3],\n",
            "        ...,\n",
            "        [3, 3],\n",
            "        [0, 0],\n",
            "        [5, 5]])\n"
          ],
          "name": "stdout"
        },
        {
          "output_type": "execute_result",
          "data": {
            "text/plain": [
              "tensor([[0, 0, 0, 0, 0, 0, 0, 0, 0, 0],\n",
              "        [0, 0, 0, 0, 0, 0, 0, 0, 0, 0],\n",
              "        [0, 0, 0, 0, 0, 0, 0, 0, 0, 0],\n",
              "        [0, 0, 0, 0, 0, 0, 0, 0, 0, 0],\n",
              "        [0, 0, 0, 0, 0, 0, 0, 0, 0, 0],\n",
              "        [0, 0, 0, 0, 0, 0, 0, 0, 0, 0],\n",
              "        [0, 0, 0, 0, 0, 0, 0, 0, 0, 0],\n",
              "        [0, 0, 0, 0, 0, 0, 0, 0, 0, 0],\n",
              "        [0, 0, 0, 0, 0, 0, 0, 0, 0, 0],\n",
              "        [0, 0, 0, 0, 0, 0, 0, 0, 0, 0]])"
            ]
          },
          "metadata": {
            "tags": []
          },
          "execution_count": 8
        }
      ]
    },
    {
      "cell_type": "code",
      "metadata": {
        "id": "ga2pBJ6IcgDF",
        "colab_type": "code",
        "colab": {
          "base_uri": "https://localhost:8080/",
          "height": 191
        },
        "outputId": "e4742266-6275-4bad-ad51-7229017ac751"
      },
      "source": [
        "for p in stacked:\n",
        "    tl, pl = p.tolist()\n",
        "    cmt[tl, pl] = cmt[tl, pl] + 1\n",
        "cmt"
      ],
      "execution_count": 9,
      "outputs": [
        {
          "output_type": "execute_result",
          "data": {
            "text/plain": [
              "tensor([[5164,    7,  141,  351,   26,    7,  230,    0,   74,    0],\n",
              "        [   8, 5711,    9,  219,   19,    2,   27,    0,    5,    0],\n",
              "        [  64,    0, 4698,   58,  740,    3,  369,    0,   68,    0],\n",
              "        [ 235,   14,   51, 5412,  149,    2,  120,    0,   17,    0],\n",
              "        [  14,    9,  797,  328, 4484,    2,  325,    0,   41,    0],\n",
              "        [   1,    0,    0,    4,    0, 5600,    1,  295,   24,   75],\n",
              "        [1468,   13, 1018,  235,  662,    3, 2506,    0,   94,    1],\n",
              "        [   0,    0,    0,    0,    0,  107,    0, 5722,   10,  161],\n",
              "        [  15,    6,   55,   35,   23,   30,   59,   14, 5758,    5],\n",
              "        [   0,    0,    0,    2,    2,   49,    0,  304,    4, 5639]])"
            ]
          },
          "metadata": {
            "tags": []
          },
          "execution_count": 9
        }
      ]
    },
    {
      "cell_type": "code",
      "metadata": {
        "id": "cubLzhu2cs1N",
        "colab_type": "code",
        "colab": {
          "base_uri": "https://localhost:8080/",
          "height": 208
        },
        "outputId": "7f0bc2ac-3817-4f46-89b1-df942593429a"
      },
      "source": [
        "# Built-in confusion matrix -- 2nd type\n",
        "\n",
        "import matplotlib.pyplot as plt\n",
        "from sklearn.metrics import confusion_matrix\n",
        "from sklearn.metrics import plot_confusion_matrix\n",
        "cm = confusion_matrix(train_set.targets, train_preds.argmax(dim=1))\n",
        "print(type(cm))\n",
        "cm"
      ],
      "execution_count": 10,
      "outputs": [
        {
          "output_type": "stream",
          "text": [
            "<class 'numpy.ndarray'>\n"
          ],
          "name": "stdout"
        },
        {
          "output_type": "execute_result",
          "data": {
            "text/plain": [
              "array([[5164,    7,  141,  351,   26,    7,  230,    0,   74,    0],\n",
              "       [   8, 5711,    9,  219,   19,    2,   27,    0,    5,    0],\n",
              "       [  64,    0, 4698,   58,  740,    3,  369,    0,   68,    0],\n",
              "       [ 235,   14,   51, 5412,  149,    2,  120,    0,   17,    0],\n",
              "       [  14,    9,  797,  328, 4484,    2,  325,    0,   41,    0],\n",
              "       [   1,    0,    0,    4,    0, 5600,    1,  295,   24,   75],\n",
              "       [1468,   13, 1018,  235,  662,    3, 2506,    0,   94,    1],\n",
              "       [   0,    0,    0,    0,    0,  107,    0, 5722,   10,  161],\n",
              "       [  15,    6,   55,   35,   23,   30,   59,   14, 5758,    5],\n",
              "       [   0,    0,    0,    2,    2,   49,    0,  304,    4, 5639]])"
            ]
          },
          "metadata": {
            "tags": []
          },
          "execution_count": 10
        }
      ]
    },
    {
      "cell_type": "code",
      "metadata": {
        "id": "Guah1R4eeK24",
        "colab_type": "code",
        "colab": {
          "base_uri": "https://localhost:8080/",
          "height": 920
        },
        "outputId": "7346a08b-528b-44f7-8013-f15131a1aec0"
      },
      "source": [
        "import itertools\n",
        "import numpy as np\n",
        "import matplotlib.pyplot as plt\n",
        "\n",
        "def plot_confusion_matrix(cm, classes, normalize=False, title='Confusion matrix', cmap=plt.cm.Blues):\n",
        "    if normalize:\n",
        "        cm = cm.astype('float') / cm.sum(axis=1)[:, np.newaxis]\n",
        "        print(\"Normalized confusion matrix\")\n",
        "    else:\n",
        "        print('Confusion matrix, without normalization')\n",
        "\n",
        "    print(cm)\n",
        "    plt.imshow(cm, interpolation='nearest', cmap=cmap)\n",
        "    plt.title(title)\n",
        "    plt.colorbar()\n",
        "    tick_marks = np.arange(len(classes))\n",
        "    plt.xticks(tick_marks, classes, rotation=45)\n",
        "    plt.yticks(tick_marks, classes)\n",
        "\n",
        "    fmt = '.2f' if normalize else 'd'\n",
        "    thresh = cm.max() / 2.\n",
        "    for i, j in itertools.product(range(cm.shape[0]), range(cm.shape[1])):\n",
        "        plt.text(j, i, format(cm[i, j], fmt), horizontalalignment=\"center\", color=\"white\" if cm[i, j] > thresh else \"black\")\n",
        "\n",
        "    plt.tight_layout()\n",
        "    plt.ylabel('True label')\n",
        "    plt.xlabel('Predicted label')\n",
        "\n",
        "names = (\n",
        "    'T-shirt/top'\n",
        "    ,'Trouser'\n",
        "    ,'Pullover'\n",
        "    ,'Dress'\n",
        "    ,'Coat'\n",
        "    ,'Sandal'\n",
        "    ,'Shirt'\n",
        "    ,'Sneaker'\n",
        "    ,'Bag'\n",
        "    ,'Ankle boot'\n",
        ")\n",
        "plt.figure(figsize=(10,10))\n",
        "plot_confusion_matrix(cm, names)"
      ],
      "execution_count": 11,
      "outputs": [
        {
          "output_type": "stream",
          "text": [
            "Confusion matrix, without normalization\n",
            "[[5164    7  141  351   26    7  230    0   74    0]\n",
            " [   8 5711    9  219   19    2   27    0    5    0]\n",
            " [  64    0 4698   58  740    3  369    0   68    0]\n",
            " [ 235   14   51 5412  149    2  120    0   17    0]\n",
            " [  14    9  797  328 4484    2  325    0   41    0]\n",
            " [   1    0    0    4    0 5600    1  295   24   75]\n",
            " [1468   13 1018  235  662    3 2506    0   94    1]\n",
            " [   0    0    0    0    0  107    0 5722   10  161]\n",
            " [  15    6   55   35   23   30   59   14 5758    5]\n",
            " [   0    0    0    2    2   49    0  304    4 5639]]\n"
          ],
          "name": "stdout"
        },
        {
          "output_type": "display_data",
          "data": {
            "image/png": "[encoded data removed]",
            "text/plain": [
              "<Figure size 720x720 with 2 Axes>"
            ]
          },
          "metadata": {
            "tags": []
          }
        }
      ]
    }
  ]
}