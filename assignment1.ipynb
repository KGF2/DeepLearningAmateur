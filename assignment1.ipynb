{
  "nbformat": 4,
  "nbformat_minor": 0,
  "metadata": {
    "colab": {
      "name": "assignment1.ipynb",
      "provenance": [],
      "authorship_tag": "ABX9TyPOurvS0QUOmvjIhfbQxedn",
      "include_colab_link": true
    },
    "kernelspec": {
      "name": "python3",
      "display_name": "Python 3"
    },
    "accelerator": "TPU"
  },
  "cells": [
    {
      "cell_type": "markdown",
      "metadata": {
        "id": "view-in-github",
        "colab_type": "text"
      },
      "source": [
        "<a href=\"https://colab.research.google.com/github/KGF2/DeepLearningAmateur/blob/ineuron/assignment1.ipynb\" target=\"_parent\"><img src=\"https://colab.research.google.com/assets/colab-badge.svg\" alt=\"Open In Colab\"/></a>"
      ]
    },
    {
      "cell_type": "code",
      "metadata": {
        "id": "iW9l9mimJIH_",
        "colab_type": "code",
        "outputId": "dc49e8c0-335d-46cf-f117-eb03899d76cc",
        "colab": {
          "base_uri": "https://localhost:8080/",
          "height": 55
        }
      },
      "source": [
        "# 1. Write a program which will find all such numbers which are divisible by 7 but are not a multiple\n",
        "#    of 5, between 2000 and 3200 (both included). The numbers obtained should be printed in a\n",
        "#    comma-separated sequence on a single line.\n",
        "\n",
        "#Code:\n",
        "i = 0\n",
        "for i in range(2000, 3200, 1):\n",
        "  if (i%5) != 0:\n",
        "    if (i%7) == 0:\n",
        "      print(i, end =\",\")"
      ],
      "execution_count": 0,
      "outputs": [
        {
          "output_type": "stream",
          "text": [
            "2002,2009,2016,2023,2037,2044,2051,2058,2072,2079,2086,2093,2107,2114,2121,2128,2142,2149,2156,2163,2177,2184,2191,2198,2212,2219,2226,2233,2247,2254,2261,2268,2282,2289,2296,2303,2317,2324,2331,2338,2352,2359,2366,2373,2387,2394,2401,2408,2422,2429,2436,2443,2457,2464,2471,2478,2492,2499,2506,2513,2527,2534,2541,2548,2562,2569,2576,2583,2597,2604,2611,2618,2632,2639,2646,2653,2667,2674,2681,2688,2702,2709,2716,2723,2737,2744,2751,2758,2772,2779,2786,2793,2807,2814,2821,2828,2842,2849,2856,2863,2877,2884,2891,2898,2912,2919,2926,2933,2947,2954,2961,2968,2982,2989,2996,3003,3017,3024,3031,3038,3052,3059,3066,3073,3087,3094,3101,3108,3122,3129,3136,3143,3157,3164,3171,3178,3192,3199,"
          ],
          "name": "stdout"
        }
      ]
    },
    {
      "cell_type": "code",
      "metadata": {
        "id": "POE0gw23LjC7",
        "colab_type": "code",
        "outputId": "56d34743-6545-4ae2-bd4c-8485d751be27",
        "colab": {
          "base_uri": "https://localhost:8080/",
          "height": 70
        }
      },
      "source": [
        "# 2. Write a Python program to accept the user's first and last name and then getting them printed in\n",
        "#   the the reverse order with a space between first name and last name.\n",
        "\n",
        "#Code:\n",
        "first = input(\"Enter first name: \")\n",
        "last = input(\"Enter last name: \")\n",
        "print(first[::-1], end=\" \")\n",
        "print(last[::-1])"
      ],
      "execution_count": 0,
      "outputs": [
        {
          "output_type": "stream",
          "text": [
            "Enter first name: triven\n",
            "Enter last name: gowd\n",
            "nevirt dwog\n"
          ],
          "name": "stdout"
        }
      ]
    },
    {
      "cell_type": "code",
      "metadata": {
        "id": "TTKPPQxUOPK4",
        "colab_type": "code",
        "outputId": "64f7fdad-29c3-4e3c-b155-76485f762a9c",
        "colab": {
          "base_uri": "https://localhost:8080/",
          "height": 35
        }
      },
      "source": [
        "# 3. Write a Python program to find the volume of a sphere with diameter 12 cm.\n",
        "#    Formula: V=4/3 * π * r**3\n",
        "\n",
        "#Code:\n",
        "pi = 22/7\n",
        "r = 12/2\n",
        "Vol = (4/3)*pi*(r**3)\n",
        "print(Vol)"
      ],
      "execution_count": 0,
      "outputs": [
        {
          "output_type": "stream",
          "text": [
            "905.142857142857\n"
          ],
          "name": "stdout"
        }
      ]
    },
    {
      "cell_type": "code",
      "metadata": {
        "id": "0Lu_DumiQSN6",
        "colab_type": "code",
        "outputId": "f43654b4-0e1e-456c-dcba-f4e8e0bd154e",
        "colab": {
          "base_uri": "https://localhost:8080/",
          "height": 52
        }
      },
      "source": [
        "# 4.  Write a program which accepts a sequence of comma-separated numbers from console and\n",
        "#     generate a list.\n",
        "\n",
        "#Code:\n",
        "List = [int(i) for i in input().split(\",\")]\n",
        "print(List)"
      ],
      "execution_count": 0,
      "outputs": [
        {
          "output_type": "stream",
          "text": [
            "6,7,8,9,7,6,6\n",
            "[6, 7, 8, 9, 7, 6, 6]\n"
          ],
          "name": "stdout"
        }
      ]
    },
    {
      "cell_type": "code",
      "metadata": {
        "id": "zrgIMo-fRWWA",
        "colab_type": "code",
        "outputId": "b4aba969-db4c-44d8-f927-df6cfd9201be",
        "colab": {
          "base_uri": "https://localhost:8080/",
          "height": 212
        }
      },
      "source": [
        "'''\n",
        "5.  Create the below pattern using nested for loop in Python.\n",
        "\n",
        "*\n",
        "* *\n",
        "* * *\n",
        "* * * *\n",
        "* * * * *\n",
        "* * * *\n",
        "* * *\n",
        "* *\n",
        "*\n",
        "'''\n",
        "\n",
        "#Code:\n",
        "for i in range(6):\n",
        "  print(i*\"* \")\n",
        "  if i == 5:\n",
        "    for j in reversed(range(0,i)):\n",
        "      print(j*\"* \")\n",
        "\n"
      ],
      "execution_count": 0,
      "outputs": [
        {
          "output_type": "stream",
          "text": [
            "\n",
            "* \n",
            "* * \n",
            "* * * \n",
            "* * * * \n",
            "* * * * * \n",
            "* * * * \n",
            "* * * \n",
            "* * \n",
            "* \n",
            "\n"
          ],
          "name": "stdout"
        }
      ]
    },
    {
      "cell_type": "code",
      "metadata": {
        "id": "NHzUigEtTs6x",
        "colab_type": "code",
        "outputId": "26656dad-440e-4116-8411-5c9d19fb4f7c",
        "colab": {
          "base_uri": "https://localhost:8080/",
          "height": 52
        }
      },
      "source": [
        "'''\n",
        "6.  Write a Python program to reverse a word after accepting the input from the user.\n",
        "    Sample Output:\n",
        "\n",
        "    Input word: Ineuron\n",
        "    Output: noruenI\n",
        "'''\n",
        "\n",
        "inp = input(\"Enter the word: \")\n",
        "print(inp[::-1])"
      ],
      "execution_count": 0,
      "outputs": [
        {
          "output_type": "stream",
          "text": [
            "Enter the word: kushal\n",
            "lahsuk\n"
          ],
          "name": "stdout"
        }
      ]
    },
    {
      "cell_type": "code",
      "metadata": {
        "id": "-ExZWHDSUl8G",
        "colab_type": "code",
        "outputId": "08103990-2c62-4564-d7ce-9a818a358298",
        "colab": {
          "base_uri": "https://localhost:8080/",
          "height": 88
        }
      },
      "source": [
        "'''\n",
        "7.  Write a Python Program to print the given string in the format specified in the sample output.\n",
        "    \n",
        "    WE, THE PEOPLE OF INDIA, having solemnly resolved to constitute India into a\n",
        "    SOVEREIGN, SOCIALIST, SECULAR, DEMOCRATIC REPUBLIC and to secure to all\n",
        "    its citizens\n",
        "    \n",
        "    Sample Output:\n",
        "    WE, THE PEOPLE OF INDIA,\n",
        "          having solemnly resolved to constitute India into a SOVEREIGN, !\n",
        "                SOCIALIST, SECULAR, DEMOCRATIC REPUBLIC\n",
        "                 and to secure to all its citizens\n",
        "\n",
        "'''\n",
        "\n",
        "print(\"WE, THE PEOPLE OF INDIA, \\n      having solemnly resolved to constitute India into a SOVEREIGN, !\\n\\t    SOCIALIST, SECULAR, DEMOCRATIC REPUBLIC \\n\\t     and to secure to all its citizens\")"
      ],
      "execution_count": 0,
      "outputs": [
        {
          "output_type": "stream",
          "text": [
            "WE, THE PEOPLE OF INDIA, \n",
            "      having solemnly resolved to constitute India into a SOVEREIGN, !\n",
            "\t    SOCIALIST, SECULAR, DEMOCRATIC REPUBLIC \n",
            "\t     and to secure to all its citizens\n"
          ],
          "name": "stdout"
        }
      ]
    },
    {
      "cell_type": "code",
      "metadata": {
        "id": "oB6CRQ3mW4ma",
        "colab_type": "code",
        "colab": {}
      },
      "source": [
        ""
      ],
      "execution_count": 0,
      "outputs": []
    }
  ]
}