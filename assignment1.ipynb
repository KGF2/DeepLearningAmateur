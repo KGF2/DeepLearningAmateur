{
  "nbformat": 4,
  "nbformat_minor": 0,
  "metadata": {
    "colab": {
      "name": "assignment1.ipynb",
      "provenance": [],
      "authorship_tag": "ABX9TyPOurvS0QUOmvjIhfbQxedn",
      "include_colab_link": true
    },
    "kernelspec": {
      "name": "python3",
      "display_name": "Python 3"
    },
    "accelerator": "TPU"
  },
  "cells": [
    {
      "cell_type": "markdown",
      "metadata": {
        "id": "view-in-github",
        "colab_type": "text"
      },
      "source": [
        "<a href=\"https://colab.research.google.com/github/KGF2/DeepLearningAmateur/blob/ineuron/assignment1.ipynb\" target=\"_parent\"><img src=\"https://colab.research.google.com/assets/colab-badge.svg\" alt=\"Open In Colab\"/></a>"
      ]
    },
    {
      "cell_type": "code",
      "metadata": {
        "id": "iW9l9mimJIH_",
        "colab_type": "code",
        "colab": {}
      },
      "source": [
        "# 1. Write a program which will find all such numbers which are divisible by 7 but are not a multiple\n",
        "#    of 5, between 2000 and 3200 (both included). The numbers obtained should be printed in a\n",
        "#    comma-separated sequence on a single line.\n",
        "\n",
        "#Code:\n",
        "i = 0\n",
        "for i in range(2000, 3200, 1):\n",
        "  if (i%5) != 0:\n",
        "    if (i%7) == 0:\n",
        "      print(i, end =\",\")"
      ],
      "execution_count": 0,
      "outputs": []
    },
    {
      "cell_type": "code",
      "metadata": {
        "id": "POE0gw23LjC7",
        "colab_type": "code",
        "colab": {}
      },
      "source": [
        "# 2. Write a Python program to accept the user's first and last name and then getting them printed in\n",
        "#   the the reverse order with a space between first name and last name.\n",
        "\n",
        "#Code:\n",
        "first = input(\"Enter first name: \")\n",
        "last = input(\"Enter last name: \")\n",
        "print(first[::-1], end=\" \")\n",
        "print(last[::-1])"
      ],
      "execution_count": 0,
      "outputs": []
    },
    {
      "cell_type": "code",
      "metadata": {
        "id": "TTKPPQxUOPK4",
        "colab_type": "code",
        "colab": {}
      },
      "source": [
        "# 3. Write a Python program to find the volume of a sphere with diameter 12 cm.\n",
        "#    Formula: V=4/3 * π * r**3\n",
        "\n",
        "#Code:\n",
        "pi = 22/7\n",
        "r = 12/2\n",
        "Vol = (4/3)*pi*(r**3)\n",
        "print(Vol)"
      ],
      "execution_count": 0,
      "outputs": []
    },
    {
      "cell_type": "code",
      "metadata": {
        "id": "0Lu_DumiQSN6",
        "colab_type": "code",
        "colab": {}
      },
      "source": [
        "# 4.  Write a program which accepts a sequence of comma-separated numbers from console and\n",
        "#     generate a list.\n",
        "\n",
        "#Code:\n",
        "List = [int(i) for i in input().split(\",\")]\n",
        "print(List)"
      ],
      "execution_count": 0,
      "outputs": []
    },
    {
      "cell_type": "code",
      "metadata": {
        "id": "zrgIMo-fRWWA",
        "colab_type": "code",
        "colab": {}
      },
      "source": [
        "'''\n",
        "5.  Create the below pattern using nested for loop in Python.\n",
        "\n",
        "*\n",
        "* *\n",
        "* * *\n",
        "* * * *\n",
        "* * * * *\n",
        "* * * *\n",
        "* * *\n",
        "* *\n",
        "*\n",
        "'''\n",
        "\n",
        "#Code:\n",
        "for i in range(6):\n",
        "  print(i*\"* \")\n",
        "  if i == 5:\n",
        "    for j in reversed(range(0,i)):\n",
        "      print(j*\"* \")\n",
        "\n"
      ],
      "execution_count": 0,
      "outputs": []
    },
    {
      "cell_type": "code",
      "metadata": {
        "id": "NHzUigEtTs6x",
        "colab_type": "code",
        "colab": {}
      },
      "source": [
        "'''\n",
        "6.  Write a Python program to reverse a word after accepting the input from the user.\n",
        "    Sample Output:\n",
        "\n",
        "    Input word: Ineuron\n",
        "    Output: noruenI\n",
        "'''\n",
        "\n",
        "inp = input(\"Enter the word: \")\n",
        "print(inp[::-1])"
      ],
      "execution_count": 0,
      "outputs": []
    },
    {
      "cell_type": "code",
      "metadata": {
        "id": "-ExZWHDSUl8G",
        "colab_type": "code",
        "colab": {}
      },
      "source": [
        "'''\n",
        "7.  Write a Python Program to print the given string in the format specified in the sample output.\n",
        "    \n",
        "    WE, THE PEOPLE OF INDIA, having solemnly resolved to constitute India into a\n",
        "    SOVEREIGN, SOCIALIST, SECULAR, DEMOCRATIC REPUBLIC and to secure to all\n",
        "    its citizens\n",
        "    \n",
        "    Sample Output:\n",
        "    WE, THE PEOPLE OF INDIA,\n",
        "          having solemnly resolved to constitute India into a SOVEREIGN, !\n",
        "                SOCIALIST, SECULAR, DEMOCRATIC REPUBLIC\n",
        "                 and to secure to all its citizens\n",
        "\n",
        "'''\n",
        "\n",
        "print(\"WE, THE PEOPLE OF INDIA, \\n      having solemnly resolved to constitute India into a SOVEREIGN, !\\n\\t    SOCIALIST, SECULAR, DEMOCRATIC REPUBLIC \\n\\t     and to secure to all its citizens\")"
      ],
      "execution_count": 0,
      "outputs": []
    },
    {
      "cell_type": "code",
      "metadata": {
        "id": "oB6CRQ3mW4ma",
        "colab_type": "code",
        "colab": {}
      },
      "source": [
        ""
      ],
      "execution_count": 0,
      "outputs": []
    }
  ]
}