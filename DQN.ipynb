{
  "nbformat": 4,
  "nbformat_minor": 0,
  "metadata": {
    "colab": {
      "name": "DQN.ipynb",
      "provenance": [],
      "collapsed_sections": [],
      "authorship_tag": "ABX9TyP5pH/jA+LMqYNjwTKiyeNr",
      "include_colab_link": true
    },
    "kernelspec": {
      "name": "python3",
      "display_name": "Python 3"
    }
  },
  "cells": [
    {
      "cell_type": "markdown",
      "metadata": {
        "id": "view-in-github",
        "colab_type": "text"
      },
      "source": [
        "<a href=\"https://colab.research.google.com/github/KGF2/DeepLearningAmateur/blob/Test/DQN.ipynb\" target=\"_parent\"><img src=\"https://colab.research.google.com/assets/colab-badge.svg\" alt=\"Open In Colab\"/></a>"
      ]
    },
    {
      "cell_type": "code",
      "metadata": {
        "id": "0rttQEAehDsX",
        "colab_type": "code",
        "colab": {}
      },
      "source": [
        "# SOURCE: https://www.youtube.com/watch?v=PyQNfsGUnQA&list=PLZbbT5o_s2xoWNVdDudn51XM8lOuZ_Njv&index=16\n",
        "\n",
        "# import libraries\n",
        "\n",
        "%matplotlib inline\n",
        "import gym\n",
        "import math\n",
        "import random\n",
        "import numpy as np\n",
        "import matplotlib\n",
        "import matplotlib.pyplot as plt\n",
        "from collections import namedtuple\n",
        "from itertools import count\n",
        "from PIL import Image\n",
        "import torch\n",
        "import torch.nn as nn\n",
        "import torch.optim as optim\n",
        "import torch.nn.functional as F\n",
        "import torchvision.transforms as T"
      ],
      "execution_count": 0,
      "outputs": []
    },
    {
      "cell_type": "code",
      "metadata": {
        "id": "Mm7vJNbwvVYy",
        "colab_type": "code",
        "colab": {}
      },
      "source": [
        "#  setup display\n",
        "\n",
        "is_ipython = 'inline' in matplotlib.get_backend() # for interactive display of plot\n",
        "if is_ipython : from IPython import display\n"
      ],
      "execution_count": 0,
      "outputs": []
    },
    {
      "cell_type": "code",
      "metadata": {
        "id": "VAx6yUHZw1br",
        "colab_type": "code",
        "colab": {}
      },
      "source": [
        "# Deep Q network using PyTorch\n",
        "\n",
        "class DQN(nn.Module): # Module class is the base class for all NNs. class DQN extends from this module. DQN will recieve screenshoot like images from the Module\n",
        "  def __init__(self, img_height, img_width):\n",
        "    super().__init__()\n",
        "\n",
        "    self.fc1 = \n",
        "    self.fc2 =\n",
        "    out ="
      ],
      "execution_count": 0,
      "outputs": []
    }
  ]
}