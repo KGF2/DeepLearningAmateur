{
  "nbformat": 4,
  "nbformat_minor": 0,
  "metadata": {
    "colab": {
      "name": "TF_practice.ipynb",
      "provenance": [],
      "authorship_tag": "ABX9TyPDpdF0dvb+aijXq56Wqjl0",
      "include_colab_link": true
    },
    "kernelspec": {
      "name": "python3",
      "display_name": "Python 3"
    }
  },
  "cells": [
    {
      "cell_type": "markdown",
      "metadata": {
        "id": "view-in-github",
        "colab_type": "text"
      },
      "source": [
        "<a href=\"https://colab.research.google.com/github/KGF2/DeepLearningAmateur/blob/master/TF_practice.ipynb\" target=\"_parent\"><img src=\"https://colab.research.google.com/assets/colab-badge.svg\" alt=\"Open In Colab\"/></a>"
      ]
    },
    {
      "cell_type": "code",
      "metadata": {
        "id": "hnue-pzf-ILD",
        "colab_type": "code",
        "outputId": "0c59fc14-d3dd-45df-cba6-36cb3a0efa5b",
        "colab": {
          "base_uri": "https://localhost:8080/",
          "height": 52
        }
      },
      "source": [
        "%tensorflow_version 2.x\n",
        "import tensorflow as tf\n",
        "print (tf.version)"
      ],
      "execution_count": 0,
      "outputs": [
        {
          "output_type": "stream",
          "text": [
            "TensorFlow 2.x selected.\n",
            "<module 'tensorflow._api.v2.version' from '/usr/local/lib/python3.6/dist-packages/tensorflow/_api/v2/version/__init__.py'>\n"
          ],
          "name": "stdout"
        }
      ]
    },
    {
      "cell_type": "code",
      "metadata": {
        "id": "xe3G9MgBxsAl",
        "colab_type": "code",
        "colab": {}
      },
      "source": [
        "rank2_tensor = tf.Variable([['kushal', 'kumar'], ['jujare', 'hi']], tf.string) \n",
        "print (rank2_tensor)\n",
        "print (\"shape\", rank2_tensor.shape)\n",
        "tf1 = tf.zeros([2,3,5])\n",
        "print(tf1)\n",
        "tf2 = tf.reshape(tf1, [-1])\n",
        "tf3 = tf.reshape(tf1, [5, -1])\n",
        "print(tf2, tf3)"
      ],
      "execution_count": 0,
      "outputs": []
    },
    {
      "cell_type": "code",
      "metadata": {
        "id": "TsNmP6TWD7At",
        "colab_type": "code",
        "outputId": "9f20bbad-566e-431a-fa89-69136a357c65",
        "colab": {
          "base_uri": "https://localhost:8080/",
          "height": 659
        }
      },
      "source": [
        "t = tf.ones ([5,5,5])\n",
        "print(t)\n",
        "t = tf.reshape(t, -1)\n",
        "print(t)"
      ],
      "execution_count": 0,
      "outputs": [
        {
          "output_type": "stream",
          "text": [
            "tf.Tensor(\n",
            "[[[1. 1. 1. 1. 1.]\n",
            "  [1. 1. 1. 1. 1.]\n",
            "  [1. 1. 1. 1. 1.]\n",
            "  [1. 1. 1. 1. 1.]\n",
            "  [1. 1. 1. 1. 1.]]\n",
            "\n",
            " [[1. 1. 1. 1. 1.]\n",
            "  [1. 1. 1. 1. 1.]\n",
            "  [1. 1. 1. 1. 1.]\n",
            "  [1. 1. 1. 1. 1.]\n",
            "  [1. 1. 1. 1. 1.]]\n",
            "\n",
            " [[1. 1. 1. 1. 1.]\n",
            "  [1. 1. 1. 1. 1.]\n",
            "  [1. 1. 1. 1. 1.]\n",
            "  [1. 1. 1. 1. 1.]\n",
            "  [1. 1. 1. 1. 1.]]\n",
            "\n",
            " [[1. 1. 1. 1. 1.]\n",
            "  [1. 1. 1. 1. 1.]\n",
            "  [1. 1. 1. 1. 1.]\n",
            "  [1. 1. 1. 1. 1.]\n",
            "  [1. 1. 1. 1. 1.]]\n",
            "\n",
            " [[1. 1. 1. 1. 1.]\n",
            "  [1. 1. 1. 1. 1.]\n",
            "  [1. 1. 1. 1. 1.]\n",
            "  [1. 1. 1. 1. 1.]\n",
            "  [1. 1. 1. 1. 1.]]], shape=(5, 5, 5), dtype=float32)\n",
            "tf.Tensor(\n",
            "[1. 1. 1. 1. 1. 1. 1. 1. 1. 1. 1. 1. 1. 1. 1. 1. 1. 1. 1. 1. 1. 1. 1. 1.\n",
            " 1. 1. 1. 1. 1. 1. 1. 1. 1. 1. 1. 1. 1. 1. 1. 1. 1. 1. 1. 1. 1. 1. 1. 1.\n",
            " 1. 1. 1. 1. 1. 1. 1. 1. 1. 1. 1. 1. 1. 1. 1. 1. 1. 1. 1. 1. 1. 1. 1. 1.\n",
            " 1. 1. 1. 1. 1. 1. 1. 1. 1. 1. 1. 1. 1. 1. 1. 1. 1. 1. 1. 1. 1. 1. 1. 1.\n",
            " 1. 1. 1. 1. 1. 1. 1. 1. 1. 1. 1. 1. 1. 1. 1. 1. 1. 1. 1. 1. 1. 1. 1. 1.\n",
            " 1. 1. 1. 1. 1.], shape=(125,), dtype=float32)\n"
          ],
          "name": "stdout"
        }
      ]
    }
  ]
}